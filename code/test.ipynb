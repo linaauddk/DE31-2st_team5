{
 "cells": [
  {
   "cell_type": "markdown",
   "metadata": {},
   "source": [
    "# Dataset 통합\n",
    "## Target:\n",
    "- bbc: https://www.kaggle.com/datasets/hgultekin/bbcnewsarchive?select=bbc-news-data.csv\n",
    "- cnn: https://www.kaggle.com/datasets/hadasu92/cnn-articles-after-basic-cleaning\n",
    "- space news: https://www.kaggle.com/datasets/patrickfleith/space-news-dataset\n",
    "- us-financial news: https://www.kaggle.com/datasets/jeet2016/us-financial-news-articles\n",
    "- sci-kit learn newspapaer set\n",
    "\n",
    "## data scale:\n",
    "- bbc: 100%\n",
    "- cnn: 100%\n",
    "- space news: 50%\n",
    "- us-financial: 5%"
   ]
  },
  {
   "cell_type": "code",
   "execution_count": 1,
   "metadata": {},
   "outputs": [],
   "source": [
    "import pandas as pd\n",
    "import csv\n",
    "import json\n",
    "import sqlalchemy\n",
    "from urllib import parse"
   ]
  },
  {
   "cell_type": "code",
   "execution_count": null,
   "metadata": {},
   "outputs": [],
   "source": [
    "user = 'encore'\n",
    "password = 'encore!@#'\n",
    "host='127.0.0.1'\n",
    "port = 3306\n",
    "database = 'mydata'\n",
    "password = parse.quote_plus(password)\n",
    "engine = sqlalchemy.create_engine(f\"mysql://{user}:{password}@{host}:{port}/{database}\")"
   ]
  },
  {
   "cell_type": "markdown",
   "metadata": {},
   "source": [
    "## 1. CNN 추출"
   ]
  },
  {
   "cell_type": "code",
   "execution_count": null,
   "metadata": {},
   "outputs": [],
   "source": []
  }
 ],
 "metadata": {
  "kernelspec": {
   "display_name": ".venv",
   "language": "python",
   "name": "python3"
  },
  "language_info": {
   "codemirror_mode": {
    "name": "ipython",
    "version": 3
   },
   "file_extension": ".py",
   "mimetype": "text/x-python",
   "name": "python",
   "nbconvert_exporter": "python",
   "pygments_lexer": "ipython3",
   "version": "3.10.0"
  }
 },
 "nbformat": 4,
 "nbformat_minor": 2
}
