{
 "cells": [
  {
   "cell_type": "code",
   "execution_count": 2,
   "id": "5825455b-4518-4e7c-b391-d30d4edbfda9",
   "metadata": {},
   "outputs": [],
   "source": [
    "#pip install num2words\n",
    "#pip install nltk\n",
    "#nltk.download('punkt')\n",
    "#nltk.download('stopwords')\n",
    "#nltk.download('wordnet')\n",
    "\n",
    "import nltk\n",
    "from nltk.tokenize import word_tokenize\n",
    "from nltk.stem import WordNetLemmatizer\n",
    "from nltk.corpus import stopwords\n",
    "from num2words import num2words\n",
    "from sklearn.feature_extraction.text import TfidfVectorizer\n",
    "from sklearn.metrics.pairwise import cosine_similarity\n",
    "from scipy.cluster.hierarchy import linkage, dendrogram\n",
    "import matplotlib.pyplot as plt\n",
    "import re\n",
    "from typing import List, Generator"
   ]
  },
  {
   "cell_type": "code",
   "execution_count": 3,
   "id": "57a7e8c9-d144-4a52-8647-49e1c7a45385",
   "metadata": {},
   "outputs": [],
   "source": [
    "# test \n",
    "def generate_doc():\n",
    "    documents = [\"\"\"The standard 30-year fixed-rate mortgage averaged 6.94% in the week ending May 23, down from last week’s average of 7.02%, according to Freddie Mac data released Thursday. That’s the lowest level since early April and below the key 7% threshold.\n",
    "After moving sideways throughout March, mortgage rates began to climb in late April as economic data showed that inflation’s cooldown stalled earlier in the year. Mortgage rates track the benchmark 10-year US Treasury yield, which moves in anticipation of the Federal Reserve’s decisions on interest rates. Stubbornly high inflation this year has dashed hopes that the Fed could cut interest rates in the spring or in the summer. But there’s finally been some good news on that front: The Consumer Price Index for April, released last week, showed that inflation didn’t pick up. Bond yields have mostly retreated this month.\n",
    "\n",
    "“Spring homebuyers received an unexpected windfall this week, as mortgage rates fell below the seven percent threshold for the first time in over a month,” Sam Khater, Freddie Mac’s chief economist, said in a release.\n",
    "\n",
    "Some Fed officials said earlier this week that they likely won’t raise interest rates again and a few have said they expect to cut rates this year. That bodes well for lower mortgage rates.\n",
    "\n",
    "But for now, the housing market’s recovery is stagnant. Sales of previously owned homes, which make up the vast majority of the housing market, fell in April for the second month in a row, the National Association of Realtors reported Wednesday. That’s a stark contrast from earlier in the year when sales soared. \"\"\",\n",
    " \"\"\"At least seven people have been killed and more than a dozen injured in a Russian missile attack on Kharkiv, north-eastern Ukraine, according to the regional head.\n",
    "A further two people remain missing after the attack, which saw Russian forces strike Ukraine's second-largest city at least 15 times, Oleg Sinegubov said.\n",
    "He advised people in the city to remain in shelters.\n",
    "Ukraine's state railway company said several of its facilities had been damaged in the attack and a number of its employees had been injured.\n",
    "Earlier this month, Russian forces began a renewed offensive in the region in an attempt to break through a weakened Ukrainian front line.\n",
    "On Wednesday, Mr Sinegubov said fighting was continuing near the towns of Pletenivka and Vovchansk, but that Ukraine's forces were in control.\n",
    "\"This weakness is not ours, but the world's, which has not dared to deal with terrorists in the way they deserve for three years,\" he said in a post on X.\n",
    "Ukrainian President Volodymyr Zelensky said the attacks on Kharkiv showed that Russia was taking advantage of Ukraine's lack of air defences.\n",
    "Supplies of US-made surface-to-air missile systems were delayed by wrangling in Congress over a multi-billion dollar aid package for Ukraine which was only passed last month.\n",
    "Mr Zelensky has repeatedly called for more air defence missiles and the supply of modern fighter jets from his allies.\n",
    "Russia's glide bombs devastating Ukraine's cities on the cheap\n",
    "Thousands flee Russian offensive in Kharkiv region\n",
    "Ukraine's defence lines stretched as Russian troops advance\n",
    "Fighting in the region has displaced around 14,000 people, according to the World Health Organization (WHO).\n",
    "The estimated 189,000 people who remain near the border with Russia face “significant risks due to ongoing fighting”, WHO’s Jarno Habicht said.\n",
    "Russia's President Vladimir Putin claims it is not his intention to capture Kharkiv, but that the aim was to create a \"security zone\" for Russia's border region.\n",
    "Ukraine has been launching its own attacks into Russian territory.\n",
    "Belgorod, located just 12km (7 miles) from the border with Ukraine, has been targeted a number of times, including earlier this week when a woman was killed and three others were injured as a result of a drone strike on a moving car.\"\"\"]\n",
    "    yield from documents\n"
   ]
  },
  {
   "cell_type": "code",
   "execution_count": 4,
   "id": "a925cb58-d511-4eb5-84df-7155f727565e",
   "metadata": {},
   "outputs": [],
   "source": [
    "def preprocessing(documents):\n",
    "    stop_words = set(stopwords.words(\"english\"))\n",
    "    wordnet_lemmatizer = WordNetLemmatizer()\n",
    "    \n",
    "    for text in documents:\n",
    "        text = str(text).lower()\n",
    "        tokens = word_tokenize(text)\n",
    "        tokens = [i.replace(\",\", \"\") for i in tokens]\n",
    "        tokens = [num2words(i) if i.isdigit() else i for i in tokens]\n",
    "        adj_text = \" \".join(tokens)\n",
    "        adj_text = re.sub(r'^[^a-z]', ' ', adj_text)\n",
    "        tokens = word_tokenize(adj_text)\n",
    "        tokensWSW = [word for word in tokens if word not in stop_words]\n",
    "        lemmatized_list = [wordnet_lemmatizer.lemmatize(word) for word in tokensWSW]\n",
    "        clean_text = \" \".join(lemmatized_list)\n",
    "        yield clean_text"
   ]
  },
  {
   "cell_type": "code",
   "execution_count": 21,
   "id": "00ada17e-e193-4ee9-ba47-dd46799d3b56",
   "metadata": {},
   "outputs": [],
   "source": [
    "def calculate_tfidf(documents_generator):\n",
    "    print(\"1\")\n",
    "    vectorizer = TfidfVectorizer()\n",
    "    tfidf_matrix = vectorizer.fit_transform(documents_generator)\n",
    "    return tfidf_matrix"
   ]
  },
  {
   "cell_type": "code",
   "execution_count": 22,
   "id": "be609ad9",
   "metadata": {},
   "outputs": [],
   "source": [
    "def calculate_cosine_similarity(tfidf_matrix):\n",
    "    # 코사인 유사도 계산\n",
    "    similarity_matrix = cosine_similarity(tfidf_matrix)\n",
    "    return similarity_matrix"
   ]
  },
  {
   "cell_type": "code",
   "execution_count": 23,
   "id": "da8a0564",
   "metadata": {},
   "outputs": [],
   "source": [
    "def clustering_model(similarity_matrix):\n",
    "    # 계층적 병합 클러스터링 수행\n",
    "    clustering = linkage(similarity_matrix, method='ward')\n",
    "    return clustering"
   ]
  },
  {
   "cell_type": "code",
   "execution_count": 24,
   "id": "d461fdaf-39ec-4ce4-a8eb-bf655a8730c9",
   "metadata": {},
   "outputs": [
    {
     "name": "stdout",
     "output_type": "stream",
     "text": [
      "1\n"
     ]
    }
   ],
   "source": [
    "documents_generator = generate_doc()\n",
    "preprocessing_documents =  preprocessing(documents_generator)\n",
    "tfidf_matrix = calculate_tfidf(preprocessing_documents)\n",
    "similarity_matrix = calculate_cosine_similarity(tfidf_matrix)\n",
    "clustering = clustering_model(similarity_matrix)"
   ]
  },
  {
   "cell_type": "code",
   "execution_count": 26,
   "id": "201eee5b-5601-4d55-adc8-aa51e8dea0c2",
   "metadata": {
    "scrolled": true
   },
   "outputs": [
    {
     "data": {
      "text/plain": [
       "<generator object preprocessing at 0x7fb45e6daea0>"
      ]
     },
     "execution_count": 26,
     "metadata": {},
     "output_type": "execute_result"
    }
   ],
   "source": [
    "preprocessing_documents"
   ]
  },
  {
   "cell_type": "code",
   "execution_count": 16,
   "id": "06a302d6",
   "metadata": {},
   "outputs": [
    {
     "ename": "AttributeError",
     "evalue": "'csr_matrix' object has no attribute 'vocabulary_'",
     "output_type": "error",
     "traceback": [
      "\u001b[0;31m---------------------------------------------------------------------------\u001b[0m",
      "\u001b[0;31mAttributeError\u001b[0m                            Traceback (most recent call last)",
      "Cell \u001b[0;32mIn[16], line 1\u001b[0m\n\u001b[0;32m----> 1\u001b[0m \u001b[43mtfidf_matrix\u001b[49m\u001b[38;5;241;43m.\u001b[39;49m\u001b[43mvocabulary_\u001b[49m\n",
      "\u001b[0;31mAttributeError\u001b[0m: 'csr_matrix' object has no attribute 'vocabulary_'"
     ]
    }
   ],
   "source": [
    "tfidf_matrix.vocabulary_"
   ]
  },
  {
   "cell_type": "code",
   "execution_count": null,
   "id": "24002478",
   "metadata": {},
   "outputs": [],
   "source": []
  }
 ],
 "metadata": {
  "kernelspec": {
   "display_name": "Python 3 (ipykernel)",
   "language": "python",
   "name": "python3"
  },
  "language_info": {
   "codemirror_mode": {
    "name": "ipython",
    "version": 3
   },
   "file_extension": ".py",
   "mimetype": "text/x-python",
   "name": "python",
   "nbconvert_exporter": "python",
   "pygments_lexer": "ipython3",
   "version": "3.10.13"
  }
 },
 "nbformat": 4,
 "nbformat_minor": 5
}
